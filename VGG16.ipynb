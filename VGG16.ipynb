{
  "nbformat": 4,
  "nbformat_minor": 0,
  "metadata": {
    "colab": {
      "provenance": [],
      "gpuType": "T4",
      "authorship_tag": "ABX9TyNlpBr1A0wqJS4FSL1k5Kaf",
      "include_colab_link": true
    },
    "kernelspec": {
      "name": "python3",
      "display_name": "Python 3"
    },
    "language_info": {
      "name": "python"
    },
    "accelerator": "GPU"
  },
  "cells": [
    {
      "cell_type": "markdown",
      "metadata": {
        "id": "view-in-github",
        "colab_type": "text"
      },
      "source": [
        "<a href=\"https://colab.research.google.com/github/ghazalna/Deep-Learning/blob/main/VGG16.ipynb\" target=\"_parent\"><img src=\"https://colab.research.google.com/assets/colab-badge.svg\" alt=\"Open In Colab\"/></a>"
      ]
    },
    {
      "cell_type": "code",
      "source": [
        "import pandas as pd\n",
        "\n",
        "# Defining the data in a dictionary format\n",
        "data = {\n",
        "    \"Model\": [\"ViT\", \"ResNet\", \"VGG16\"],\n",
        "    \"Accuracy (%)\": [\"90-95\", \"93-96\", \"89-93\"],\n",
        "    \"Loss (approx.)\": [\"0.1-0.2\", \"0.05-0.1\", \"0.1-0.2\"],\n",
        "    \"Learning Rate\": [\"0.001 to 0.0003\", \"0.1 with decay\", \"0.001 with decay\"],\n",
        "    \"Batch Size\": [\"64 or 128\", \"128 or 256\", \"64 or 128\"],\n",
        "    \"Optimizer\": [\"Adam/AdamW\", \"SGD with momentum 0.9\", \"Adam/SGD with momentum 0.9\"],\n",
        "    \"Epochs\": [\"100-300\", \"200-300\", \"200-300\"],\n",
        "    \"Weight Decay\": [\"-\", \"0.0001 to 0.0005\", \"0.0005\"],\n",
        "    \"Data Augmentation\": [\"Yes\", \"Yes\", \"Yes\"],\n",
        "    \"Normalization\": [\"Layer Normalization\", \"Batch Normalization\", \"Batch Normalization\"],\n",
        "    \"Regularization\": [\"Dropout 0.1-0.3\", \"None\", \"Dropout 0.5\"]\n",
        "}\n",
        "\n",
        "# Creating a DataFrame\n",
        "df = pd.DataFrame(data)\n",
        "\n",
        "# Display the DataFrame\n",
        "df"
      ],
      "metadata": {
        "colab": {
          "base_uri": "https://localhost:8080/",
          "height": 284
        },
        "id": "7OpSmAAFFpz0",
        "outputId": "ece7be1b-ad3e-4b7f-c51a-820e5a5b812f"
      },
      "execution_count": 1,
      "outputs": [
        {
          "output_type": "execute_result",
          "data": {
            "text/plain": [
              "    Model Accuracy (%) Loss (approx.)     Learning Rate  Batch Size  \\\n",
              "0     ViT        90-95        0.1-0.2   0.001 to 0.0003   64 or 128   \n",
              "1  ResNet        93-96       0.05-0.1    0.1 with decay  128 or 256   \n",
              "2   VGG16        89-93        0.1-0.2  0.001 with decay   64 or 128   \n",
              "\n",
              "                    Optimizer   Epochs      Weight Decay Data Augmentation  \\\n",
              "0                  Adam/AdamW  100-300                 -               Yes   \n",
              "1       SGD with momentum 0.9  200-300  0.0001 to 0.0005               Yes   \n",
              "2  Adam/SGD with momentum 0.9  200-300            0.0005               Yes   \n",
              "\n",
              "         Normalization   Regularization  \n",
              "0  Layer Normalization  Dropout 0.1-0.3  \n",
              "1  Batch Normalization             None  \n",
              "2  Batch Normalization      Dropout 0.5  "
            ],
            "text/html": [
              "\n",
              "  <div id=\"df-11474139-8cb8-45da-ba4f-71d96d6c4655\" class=\"colab-df-container\">\n",
              "    <div>\n",
              "<style scoped>\n",
              "    .dataframe tbody tr th:only-of-type {\n",
              "        vertical-align: middle;\n",
              "    }\n",
              "\n",
              "    .dataframe tbody tr th {\n",
              "        vertical-align: top;\n",
              "    }\n",
              "\n",
              "    .dataframe thead th {\n",
              "        text-align: right;\n",
              "    }\n",
              "</style>\n",
              "<table border=\"1\" class=\"dataframe\">\n",
              "  <thead>\n",
              "    <tr style=\"text-align: right;\">\n",
              "      <th></th>\n",
              "      <th>Model</th>\n",
              "      <th>Accuracy (%)</th>\n",
              "      <th>Loss (approx.)</th>\n",
              "      <th>Learning Rate</th>\n",
              "      <th>Batch Size</th>\n",
              "      <th>Optimizer</th>\n",
              "      <th>Epochs</th>\n",
              "      <th>Weight Decay</th>\n",
              "      <th>Data Augmentation</th>\n",
              "      <th>Normalization</th>\n",
              "      <th>Regularization</th>\n",
              "    </tr>\n",
              "  </thead>\n",
              "  <tbody>\n",
              "    <tr>\n",
              "      <th>0</th>\n",
              "      <td>ViT</td>\n",
              "      <td>90-95</td>\n",
              "      <td>0.1-0.2</td>\n",
              "      <td>0.001 to 0.0003</td>\n",
              "      <td>64 or 128</td>\n",
              "      <td>Adam/AdamW</td>\n",
              "      <td>100-300</td>\n",
              "      <td>-</td>\n",
              "      <td>Yes</td>\n",
              "      <td>Layer Normalization</td>\n",
              "      <td>Dropout 0.1-0.3</td>\n",
              "    </tr>\n",
              "    <tr>\n",
              "      <th>1</th>\n",
              "      <td>ResNet</td>\n",
              "      <td>93-96</td>\n",
              "      <td>0.05-0.1</td>\n",
              "      <td>0.1 with decay</td>\n",
              "      <td>128 or 256</td>\n",
              "      <td>SGD with momentum 0.9</td>\n",
              "      <td>200-300</td>\n",
              "      <td>0.0001 to 0.0005</td>\n",
              "      <td>Yes</td>\n",
              "      <td>Batch Normalization</td>\n",
              "      <td>None</td>\n",
              "    </tr>\n",
              "    <tr>\n",
              "      <th>2</th>\n",
              "      <td>VGG16</td>\n",
              "      <td>89-93</td>\n",
              "      <td>0.1-0.2</td>\n",
              "      <td>0.001 with decay</td>\n",
              "      <td>64 or 128</td>\n",
              "      <td>Adam/SGD with momentum 0.9</td>\n",
              "      <td>200-300</td>\n",
              "      <td>0.0005</td>\n",
              "      <td>Yes</td>\n",
              "      <td>Batch Normalization</td>\n",
              "      <td>Dropout 0.5</td>\n",
              "    </tr>\n",
              "  </tbody>\n",
              "</table>\n",
              "</div>\n",
              "    <div class=\"colab-df-buttons\">\n",
              "\n",
              "  <div class=\"colab-df-container\">\n",
              "    <button class=\"colab-df-convert\" onclick=\"convertToInteractive('df-11474139-8cb8-45da-ba4f-71d96d6c4655')\"\n",
              "            title=\"Convert this dataframe to an interactive table.\"\n",
              "            style=\"display:none;\">\n",
              "\n",
              "  <svg xmlns=\"http://www.w3.org/2000/svg\" height=\"24px\" viewBox=\"0 -960 960 960\">\n",
              "    <path d=\"M120-120v-720h720v720H120Zm60-500h600v-160H180v160Zm220 220h160v-160H400v160Zm0 220h160v-160H400v160ZM180-400h160v-160H180v160Zm440 0h160v-160H620v160ZM180-180h160v-160H180v160Zm440 0h160v-160H620v160Z\"/>\n",
              "  </svg>\n",
              "    </button>\n",
              "\n",
              "  <style>\n",
              "    .colab-df-container {\n",
              "      display:flex;\n",
              "      gap: 12px;\n",
              "    }\n",
              "\n",
              "    .colab-df-convert {\n",
              "      background-color: #E8F0FE;\n",
              "      border: none;\n",
              "      border-radius: 50%;\n",
              "      cursor: pointer;\n",
              "      display: none;\n",
              "      fill: #1967D2;\n",
              "      height: 32px;\n",
              "      padding: 0 0 0 0;\n",
              "      width: 32px;\n",
              "    }\n",
              "\n",
              "    .colab-df-convert:hover {\n",
              "      background-color: #E2EBFA;\n",
              "      box-shadow: 0px 1px 2px rgba(60, 64, 67, 0.3), 0px 1px 3px 1px rgba(60, 64, 67, 0.15);\n",
              "      fill: #174EA6;\n",
              "    }\n",
              "\n",
              "    .colab-df-buttons div {\n",
              "      margin-bottom: 4px;\n",
              "    }\n",
              "\n",
              "    [theme=dark] .colab-df-convert {\n",
              "      background-color: #3B4455;\n",
              "      fill: #D2E3FC;\n",
              "    }\n",
              "\n",
              "    [theme=dark] .colab-df-convert:hover {\n",
              "      background-color: #434B5C;\n",
              "      box-shadow: 0px 1px 3px 1px rgba(0, 0, 0, 0.15);\n",
              "      filter: drop-shadow(0px 1px 2px rgba(0, 0, 0, 0.3));\n",
              "      fill: #FFFFFF;\n",
              "    }\n",
              "  </style>\n",
              "\n",
              "    <script>\n",
              "      const buttonEl =\n",
              "        document.querySelector('#df-11474139-8cb8-45da-ba4f-71d96d6c4655 button.colab-df-convert');\n",
              "      buttonEl.style.display =\n",
              "        google.colab.kernel.accessAllowed ? 'block' : 'none';\n",
              "\n",
              "      async function convertToInteractive(key) {\n",
              "        const element = document.querySelector('#df-11474139-8cb8-45da-ba4f-71d96d6c4655');\n",
              "        const dataTable =\n",
              "          await google.colab.kernel.invokeFunction('convertToInteractive',\n",
              "                                                    [key], {});\n",
              "        if (!dataTable) return;\n",
              "\n",
              "        const docLinkHtml = 'Like what you see? Visit the ' +\n",
              "          '<a target=\"_blank\" href=https://colab.research.google.com/notebooks/data_table.ipynb>data table notebook</a>'\n",
              "          + ' to learn more about interactive tables.';\n",
              "        element.innerHTML = '';\n",
              "        dataTable['output_type'] = 'display_data';\n",
              "        await google.colab.output.renderOutput(dataTable, element);\n",
              "        const docLink = document.createElement('div');\n",
              "        docLink.innerHTML = docLinkHtml;\n",
              "        element.appendChild(docLink);\n",
              "      }\n",
              "    </script>\n",
              "  </div>\n",
              "\n",
              "\n",
              "<div id=\"df-5cd0afb8-fa99-410f-9548-e4c94bffd44e\">\n",
              "  <button class=\"colab-df-quickchart\" onclick=\"quickchart('df-5cd0afb8-fa99-410f-9548-e4c94bffd44e')\"\n",
              "            title=\"Suggest charts\"\n",
              "            style=\"display:none;\">\n",
              "\n",
              "<svg xmlns=\"http://www.w3.org/2000/svg\" height=\"24px\"viewBox=\"0 0 24 24\"\n",
              "     width=\"24px\">\n",
              "    <g>\n",
              "        <path d=\"M19 3H5c-1.1 0-2 .9-2 2v14c0 1.1.9 2 2 2h14c1.1 0 2-.9 2-2V5c0-1.1-.9-2-2-2zM9 17H7v-7h2v7zm4 0h-2V7h2v10zm4 0h-2v-4h2v4z\"/>\n",
              "    </g>\n",
              "</svg>\n",
              "  </button>\n",
              "\n",
              "<style>\n",
              "  .colab-df-quickchart {\n",
              "      --bg-color: #E8F0FE;\n",
              "      --fill-color: #1967D2;\n",
              "      --hover-bg-color: #E2EBFA;\n",
              "      --hover-fill-color: #174EA6;\n",
              "      --disabled-fill-color: #AAA;\n",
              "      --disabled-bg-color: #DDD;\n",
              "  }\n",
              "\n",
              "  [theme=dark] .colab-df-quickchart {\n",
              "      --bg-color: #3B4455;\n",
              "      --fill-color: #D2E3FC;\n",
              "      --hover-bg-color: #434B5C;\n",
              "      --hover-fill-color: #FFFFFF;\n",
              "      --disabled-bg-color: #3B4455;\n",
              "      --disabled-fill-color: #666;\n",
              "  }\n",
              "\n",
              "  .colab-df-quickchart {\n",
              "    background-color: var(--bg-color);\n",
              "    border: none;\n",
              "    border-radius: 50%;\n",
              "    cursor: pointer;\n",
              "    display: none;\n",
              "    fill: var(--fill-color);\n",
              "    height: 32px;\n",
              "    padding: 0;\n",
              "    width: 32px;\n",
              "  }\n",
              "\n",
              "  .colab-df-quickchart:hover {\n",
              "    background-color: var(--hover-bg-color);\n",
              "    box-shadow: 0 1px 2px rgba(60, 64, 67, 0.3), 0 1px 3px 1px rgba(60, 64, 67, 0.15);\n",
              "    fill: var(--button-hover-fill-color);\n",
              "  }\n",
              "\n",
              "  .colab-df-quickchart-complete:disabled,\n",
              "  .colab-df-quickchart-complete:disabled:hover {\n",
              "    background-color: var(--disabled-bg-color);\n",
              "    fill: var(--disabled-fill-color);\n",
              "    box-shadow: none;\n",
              "  }\n",
              "\n",
              "  .colab-df-spinner {\n",
              "    border: 2px solid var(--fill-color);\n",
              "    border-color: transparent;\n",
              "    border-bottom-color: var(--fill-color);\n",
              "    animation:\n",
              "      spin 1s steps(1) infinite;\n",
              "  }\n",
              "\n",
              "  @keyframes spin {\n",
              "    0% {\n",
              "      border-color: transparent;\n",
              "      border-bottom-color: var(--fill-color);\n",
              "      border-left-color: var(--fill-color);\n",
              "    }\n",
              "    20% {\n",
              "      border-color: transparent;\n",
              "      border-left-color: var(--fill-color);\n",
              "      border-top-color: var(--fill-color);\n",
              "    }\n",
              "    30% {\n",
              "      border-color: transparent;\n",
              "      border-left-color: var(--fill-color);\n",
              "      border-top-color: var(--fill-color);\n",
              "      border-right-color: var(--fill-color);\n",
              "    }\n",
              "    40% {\n",
              "      border-color: transparent;\n",
              "      border-right-color: var(--fill-color);\n",
              "      border-top-color: var(--fill-color);\n",
              "    }\n",
              "    60% {\n",
              "      border-color: transparent;\n",
              "      border-right-color: var(--fill-color);\n",
              "    }\n",
              "    80% {\n",
              "      border-color: transparent;\n",
              "      border-right-color: var(--fill-color);\n",
              "      border-bottom-color: var(--fill-color);\n",
              "    }\n",
              "    90% {\n",
              "      border-color: transparent;\n",
              "      border-bottom-color: var(--fill-color);\n",
              "    }\n",
              "  }\n",
              "</style>\n",
              "\n",
              "  <script>\n",
              "    async function quickchart(key) {\n",
              "      const quickchartButtonEl =\n",
              "        document.querySelector('#' + key + ' button');\n",
              "      quickchartButtonEl.disabled = true;  // To prevent multiple clicks.\n",
              "      quickchartButtonEl.classList.add('colab-df-spinner');\n",
              "      try {\n",
              "        const charts = await google.colab.kernel.invokeFunction(\n",
              "            'suggestCharts', [key], {});\n",
              "      } catch (error) {\n",
              "        console.error('Error during call to suggestCharts:', error);\n",
              "      }\n",
              "      quickchartButtonEl.classList.remove('colab-df-spinner');\n",
              "      quickchartButtonEl.classList.add('colab-df-quickchart-complete');\n",
              "    }\n",
              "    (() => {\n",
              "      let quickchartButtonEl =\n",
              "        document.querySelector('#df-5cd0afb8-fa99-410f-9548-e4c94bffd44e button');\n",
              "      quickchartButtonEl.style.display =\n",
              "        google.colab.kernel.accessAllowed ? 'block' : 'none';\n",
              "    })();\n",
              "  </script>\n",
              "</div>\n",
              "\n",
              "  <div id=\"id_a2f2c81d-1ff4-4418-a2f6-415894efac8d\">\n",
              "    <style>\n",
              "      .colab-df-generate {\n",
              "        background-color: #E8F0FE;\n",
              "        border: none;\n",
              "        border-radius: 50%;\n",
              "        cursor: pointer;\n",
              "        display: none;\n",
              "        fill: #1967D2;\n",
              "        height: 32px;\n",
              "        padding: 0 0 0 0;\n",
              "        width: 32px;\n",
              "      }\n",
              "\n",
              "      .colab-df-generate:hover {\n",
              "        background-color: #E2EBFA;\n",
              "        box-shadow: 0px 1px 2px rgba(60, 64, 67, 0.3), 0px 1px 3px 1px rgba(60, 64, 67, 0.15);\n",
              "        fill: #174EA6;\n",
              "      }\n",
              "\n",
              "      [theme=dark] .colab-df-generate {\n",
              "        background-color: #3B4455;\n",
              "        fill: #D2E3FC;\n",
              "      }\n",
              "\n",
              "      [theme=dark] .colab-df-generate:hover {\n",
              "        background-color: #434B5C;\n",
              "        box-shadow: 0px 1px 3px 1px rgba(0, 0, 0, 0.15);\n",
              "        filter: drop-shadow(0px 1px 2px rgba(0, 0, 0, 0.3));\n",
              "        fill: #FFFFFF;\n",
              "      }\n",
              "    </style>\n",
              "    <button class=\"colab-df-generate\" onclick=\"generateWithVariable('df')\"\n",
              "            title=\"Generate code using this dataframe.\"\n",
              "            style=\"display:none;\">\n",
              "\n",
              "  <svg xmlns=\"http://www.w3.org/2000/svg\" height=\"24px\"viewBox=\"0 0 24 24\"\n",
              "       width=\"24px\">\n",
              "    <path d=\"M7,19H8.4L18.45,9,17,7.55,7,17.6ZM5,21V16.75L18.45,3.32a2,2,0,0,1,2.83,0l1.4,1.43a1.91,1.91,0,0,1,.58,1.4,1.91,1.91,0,0,1-.58,1.4L9.25,21ZM18.45,9,17,7.55Zm-12,3A5.31,5.31,0,0,0,4.9,8.1,5.31,5.31,0,0,0,1,6.5,5.31,5.31,0,0,0,4.9,4.9,5.31,5.31,0,0,0,6.5,1,5.31,5.31,0,0,0,8.1,4.9,5.31,5.31,0,0,0,12,6.5,5.46,5.46,0,0,0,6.5,12Z\"/>\n",
              "  </svg>\n",
              "    </button>\n",
              "    <script>\n",
              "      (() => {\n",
              "      const buttonEl =\n",
              "        document.querySelector('#id_a2f2c81d-1ff4-4418-a2f6-415894efac8d button.colab-df-generate');\n",
              "      buttonEl.style.display =\n",
              "        google.colab.kernel.accessAllowed ? 'block' : 'none';\n",
              "\n",
              "      buttonEl.onclick = () => {\n",
              "        google.colab.notebook.generateWithVariable('df');\n",
              "      }\n",
              "      })();\n",
              "    </script>\n",
              "  </div>\n",
              "\n",
              "    </div>\n",
              "  </div>\n"
            ],
            "application/vnd.google.colaboratory.intrinsic+json": {
              "type": "dataframe",
              "variable_name": "df",
              "summary": "{\n  \"name\": \"df\",\n  \"rows\": 3,\n  \"fields\": [\n    {\n      \"column\": \"Model\",\n      \"properties\": {\n        \"dtype\": \"string\",\n        \"num_unique_values\": 3,\n        \"samples\": [\n          \"ViT\",\n          \"ResNet\",\n          \"VGG16\"\n        ],\n        \"semantic_type\": \"\",\n        \"description\": \"\"\n      }\n    },\n    {\n      \"column\": \"Accuracy (%)\",\n      \"properties\": {\n        \"dtype\": \"string\",\n        \"num_unique_values\": 3,\n        \"samples\": [\n          \"90-95\",\n          \"93-96\",\n          \"89-93\"\n        ],\n        \"semantic_type\": \"\",\n        \"description\": \"\"\n      }\n    },\n    {\n      \"column\": \"Loss (approx.)\",\n      \"properties\": {\n        \"dtype\": \"string\",\n        \"num_unique_values\": 2,\n        \"samples\": [\n          \"0.05-0.1\",\n          \"0.1-0.2\"\n        ],\n        \"semantic_type\": \"\",\n        \"description\": \"\"\n      }\n    },\n    {\n      \"column\": \"Learning Rate\",\n      \"properties\": {\n        \"dtype\": \"string\",\n        \"num_unique_values\": 3,\n        \"samples\": [\n          \"0.001 to 0.0003\",\n          \"0.1 with decay\"\n        ],\n        \"semantic_type\": \"\",\n        \"description\": \"\"\n      }\n    },\n    {\n      \"column\": \"Batch Size\",\n      \"properties\": {\n        \"dtype\": \"string\",\n        \"num_unique_values\": 2,\n        \"samples\": [\n          \"128 or 256\",\n          \"64 or 128\"\n        ],\n        \"semantic_type\": \"\",\n        \"description\": \"\"\n      }\n    },\n    {\n      \"column\": \"Optimizer\",\n      \"properties\": {\n        \"dtype\": \"string\",\n        \"num_unique_values\": 3,\n        \"samples\": [\n          \"Adam/AdamW\",\n          \"SGD with momentum 0.9\"\n        ],\n        \"semantic_type\": \"\",\n        \"description\": \"\"\n      }\n    },\n    {\n      \"column\": \"Epochs\",\n      \"properties\": {\n        \"dtype\": \"string\",\n        \"num_unique_values\": 2,\n        \"samples\": [\n          \"200-300\",\n          \"100-300\"\n        ],\n        \"semantic_type\": \"\",\n        \"description\": \"\"\n      }\n    },\n    {\n      \"column\": \"Weight Decay\",\n      \"properties\": {\n        \"dtype\": \"string\",\n        \"num_unique_values\": 3,\n        \"samples\": [\n          \"-\",\n          \"0.0001 to 0.0005\"\n        ],\n        \"semantic_type\": \"\",\n        \"description\": \"\"\n      }\n    },\n    {\n      \"column\": \"Data Augmentation\",\n      \"properties\": {\n        \"dtype\": \"category\",\n        \"num_unique_values\": 1,\n        \"samples\": [\n          \"Yes\"\n        ],\n        \"semantic_type\": \"\",\n        \"description\": \"\"\n      }\n    },\n    {\n      \"column\": \"Normalization\",\n      \"properties\": {\n        \"dtype\": \"string\",\n        \"num_unique_values\": 2,\n        \"samples\": [\n          \"Batch Normalization\"\n        ],\n        \"semantic_type\": \"\",\n        \"description\": \"\"\n      }\n    },\n    {\n      \"column\": \"Regularization\",\n      \"properties\": {\n        \"dtype\": \"string\",\n        \"num_unique_values\": 3,\n        \"samples\": [\n          \"Dropout 0.1-0.3\"\n        ],\n        \"semantic_type\": \"\",\n        \"description\": \"\"\n      }\n    }\n  ]\n}"
            }
          },
          "metadata": {},
          "execution_count": 1
        }
      ]
    },
    {
      "cell_type": "code",
      "source": [],
      "metadata": {
        "id": "vjyvUJBeFrTx"
      },
      "execution_count": 1,
      "outputs": []
    },
    {
      "cell_type": "code",
      "source": [
        "import tensorflow as tf\n",
        "from tensorflow.keras.preprocessing.image import ImageDataGenerator\n",
        "from tensorflow.keras import layers, models, optimizers\n",
        "import matplotlib.pyplot as plt\n",
        "import numpy as np"
      ],
      "metadata": {
        "id": "HrJXaFiizn7B"
      },
      "execution_count": 2,
      "outputs": []
    },
    {
      "cell_type": "markdown",
      "source": [
        "# **Load Data**"
      ],
      "metadata": {
        "id": "vW2OZx-41Z_h"
      }
    },
    {
      "cell_type": "code",
      "source": [
        "(x_train, y_train), (x_test, y_test)= tf.keras.datasets.cifar10.load_data()"
      ],
      "metadata": {
        "colab": {
          "base_uri": "https://localhost:8080/"
        },
        "id": "zc9TkzPF0Ez1",
        "outputId": "6f809539-3138-4e77-f585-f1884f96f9c7"
      },
      "execution_count": 3,
      "outputs": [
        {
          "output_type": "stream",
          "name": "stdout",
          "text": [
            "Downloading data from https://www.cs.toronto.edu/~kriz/cifar-10-python.tar.gz\n",
            "\u001b[1m170498071/170498071\u001b[0m \u001b[32m━━━━━━━━━━━━━━━━━━━━\u001b[0m\u001b[37m\u001b[0m \u001b[1m4s\u001b[0m 0us/step\n"
          ]
        }
      ]
    },
    {
      "cell_type": "markdown",
      "source": [
        "# **Normalization**"
      ],
      "metadata": {
        "id": "RV6cgJ4n1dCE"
      }
    },
    {
      "cell_type": "code",
      "source": [
        "x_train , x_test = x_train/255.0 , x_test /255.0       # for pictures use 255.0"
      ],
      "metadata": {
        "id": "gIZqwUNK0die"
      },
      "execution_count": 6,
      "outputs": []
    },
    {
      "cell_type": "markdown",
      "source": [
        "# **OneHot Code**"
      ],
      "metadata": {
        "id": "bxLGTbCK1mZn"
      }
    },
    {
      "cell_type": "code",
      "source": [
        "#Categorical\n",
        "\n",
        "y_train = tf.keras.utils.to_categorical(y_train, 10)\n",
        "y_test = tf.keras.utils.to_categorical(y_test, 10)"
      ],
      "metadata": {
        "id": "oNQ1dkSk0seW"
      },
      "execution_count": 7,
      "outputs": []
    },
    {
      "cell_type": "markdown",
      "source": [
        "# **Data augmentation**"
      ],
      "metadata": {
        "id": "GrW8MMxT1kwl"
      }
    },
    {
      "cell_type": "code",
      "source": [
        "datagen = ImageDataGenerator(rotation_range = 15,\n",
        "                           width_shift_range = 0.1,\n",
        "                           height_shift_range = 0.1,\n",
        "                           horizontal_flip = True)\n",
        "datagen.fit(x_train)"
      ],
      "metadata": {
        "id": "Jblvq8G22MgU"
      },
      "execution_count": 8,
      "outputs": []
    },
    {
      "cell_type": "code",
      "source": [
        "class_names = [\"airplane\", \"automobile\", \"bird\", \"cat\", \"deer\", \"dog\", \"frog\", \"horse\", \"ship\", \"truck\"]\n"
      ],
      "metadata": {
        "id": "RSmuPuXU2n-H"
      },
      "execution_count": 9,
      "outputs": []
    },
    {
      "cell_type": "markdown",
      "source": [
        "# **VGG16**\n",
        "\n"
      ],
      "metadata": {
        "id": "j1YRzKY_87Nx"
      }
    },
    {
      "cell_type": "markdown",
      "source": [
        "VGG16 is object detection and classification algorithm which is able to classify 1000 images of 1000 different categories with 92.7% accuracy. It is one of the popular algorithms for image classification and is easy to use with transfer learning."
      ],
      "metadata": {
        "id": "NRQMfEn19M6I"
      }
    },
    {
      "cell_type": "markdown",
      "source": [
        "![0_6VP81rFoLWp10FcG.webp](data:image/webp;base64,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)"
      ],
      "metadata": {
        "id": "Ip4bJDBv9Z54"
      }
    },
    {
      "cell_type": "code",
      "source": [
        "def creat_model_vgg16(input_shape=(32,32,3), num_class=10):\n",
        "    model=models.Sequential()\n",
        "    model.add(layers.Conv2D(64, (3, 3), padding='same', activation='relu', input_shape=input_shape))\n",
        "    model.add(layers.BatchNormalization())\n",
        "    model.add(layers.Conv2D(64, (3, 3), padding='same', activation='relu'))\n",
        "    model.add(layers.BatchNormalization())\n",
        "    model.add(layers.MaxPool2D((2, 2)))\n",
        "\n",
        "    model.add(layers.Conv2D(128, (3, 3), padding='same', activation='relu'))\n",
        "    model.add(layers.BatchNormalization())\n",
        "    model.add(layers.Conv2D(128, (3, 3), padding='same', activation='relu'))\n",
        "    model.add(layers.BatchNormalization())\n",
        "    model.add(layers.MaxPool2D((2, 2)))\n",
        "\n",
        "    model.add(layers.Conv2D(256, (3, 3), padding='same', activation='relu'))\n",
        "    model.add(layers.BatchNormalization())\n",
        "    model.add(layers.Conv2D(256, (3, 3), padding='same', activation='relu'))\n",
        "    model.add(layers.BatchNormalization())\n",
        "    model.add(layers.MaxPool2D((2, 2)))\n",
        "\n",
        "    model.add(layers.Flatten())\n",
        "    model.add(layers.Dense(512, activation='relu'))\n",
        "    model.add(layers.BatchNormalization())\n",
        "    model.add(layers.Dropout(0.5))\n",
        "    model.add(layers.Dense(num_class, activation='softmax'))\n",
        "    return model"
      ],
      "metadata": {
        "id": "_02DB6GM8Oio"
      },
      "execution_count": 10,
      "outputs": []
    },
    {
      "cell_type": "markdown",
      "source": [
        "# **Build Model**"
      ],
      "metadata": {
        "id": "CNJiy5ItB41O"
      }
    },
    {
      "cell_type": "code",
      "source": [
        "vgg16_model = creat_model_vgg16()"
      ],
      "metadata": {
        "colab": {
          "base_uri": "https://localhost:8080/"
        },
        "id": "FgIJpSBMALsF",
        "outputId": "41ac7682-4163-478d-b6f6-466e7d7cf201"
      },
      "execution_count": 11,
      "outputs": [
        {
          "output_type": "stream",
          "name": "stderr",
          "text": [
            "/usr/local/lib/python3.10/dist-packages/keras/src/layers/convolutional/base_conv.py:107: UserWarning: Do not pass an `input_shape`/`input_dim` argument to a layer. When using Sequential models, prefer using an `Input(shape)` object as the first layer in the model instead.\n",
            "  super().__init__(activity_regularizer=activity_regularizer, **kwargs)\n"
          ]
        }
      ]
    },
    {
      "cell_type": "code",
      "source": [
        "vgg16_model.summary()"
      ],
      "metadata": {
        "colab": {
          "base_uri": "https://localhost:8080/",
          "height": 887
        },
        "id": "7oiWgAp3CGDQ",
        "outputId": "b5212126-1b54-49cf-aaf3-b2e88f1b9c85"
      },
      "execution_count": 12,
      "outputs": [
        {
          "output_type": "display_data",
          "data": {
            "text/plain": [
              "\u001b[1mModel: \"sequential\"\u001b[0m\n"
            ],
            "text/html": [
              "<pre style=\"white-space:pre;overflow-x:auto;line-height:normal;font-family:Menlo,'DejaVu Sans Mono',consolas,'Courier New',monospace\"><span style=\"font-weight: bold\">Model: \"sequential\"</span>\n",
              "</pre>\n"
            ]
          },
          "metadata": {}
        },
        {
          "output_type": "display_data",
          "data": {
            "text/plain": [
              "┏━━━━━━━━━━━━━━━━━━━━━━━━━━━━━━━━━━━━━━┳━━━━━━━━━━━━━━━━━━━━━━━━━━━━━┳━━━━━━━━━━━━━━━━━┓\n",
              "┃\u001b[1m \u001b[0m\u001b[1mLayer (type)                        \u001b[0m\u001b[1m \u001b[0m┃\u001b[1m \u001b[0m\u001b[1mOutput Shape               \u001b[0m\u001b[1m \u001b[0m┃\u001b[1m \u001b[0m\u001b[1m        Param #\u001b[0m\u001b[1m \u001b[0m┃\n",
              "┡━━━━━━━━━━━━━━━━━━━━━━━━━━━━━━━━━━━━━━╇━━━━━━━━━━━━━━━━━━━━━━━━━━━━━╇━━━━━━━━━━━━━━━━━┩\n",
              "│ conv2d (\u001b[38;5;33mConv2D\u001b[0m)                      │ (\u001b[38;5;45mNone\u001b[0m, \u001b[38;5;34m32\u001b[0m, \u001b[38;5;34m32\u001b[0m, \u001b[38;5;34m64\u001b[0m)          │           \u001b[38;5;34m1,792\u001b[0m │\n",
              "├──────────────────────────────────────┼─────────────────────────────┼─────────────────┤\n",
              "│ batch_normalization                  │ (\u001b[38;5;45mNone\u001b[0m, \u001b[38;5;34m32\u001b[0m, \u001b[38;5;34m32\u001b[0m, \u001b[38;5;34m64\u001b[0m)          │             \u001b[38;5;34m256\u001b[0m │\n",
              "│ (\u001b[38;5;33mBatchNormalization\u001b[0m)                 │                             │                 │\n",
              "├──────────────────────────────────────┼─────────────────────────────┼─────────────────┤\n",
              "│ conv2d_1 (\u001b[38;5;33mConv2D\u001b[0m)                    │ (\u001b[38;5;45mNone\u001b[0m, \u001b[38;5;34m32\u001b[0m, \u001b[38;5;34m32\u001b[0m, \u001b[38;5;34m64\u001b[0m)          │          \u001b[38;5;34m36,928\u001b[0m │\n",
              "├──────────────────────────────────────┼─────────────────────────────┼─────────────────┤\n",
              "│ batch_normalization_1                │ (\u001b[38;5;45mNone\u001b[0m, \u001b[38;5;34m32\u001b[0m, \u001b[38;5;34m32\u001b[0m, \u001b[38;5;34m64\u001b[0m)          │             \u001b[38;5;34m256\u001b[0m │\n",
              "│ (\u001b[38;5;33mBatchNormalization\u001b[0m)                 │                             │                 │\n",
              "├──────────────────────────────────────┼─────────────────────────────┼─────────────────┤\n",
              "│ max_pooling2d (\u001b[38;5;33mMaxPooling2D\u001b[0m)         │ (\u001b[38;5;45mNone\u001b[0m, \u001b[38;5;34m16\u001b[0m, \u001b[38;5;34m16\u001b[0m, \u001b[38;5;34m64\u001b[0m)          │               \u001b[38;5;34m0\u001b[0m │\n",
              "├──────────────────────────────────────┼─────────────────────────────┼─────────────────┤\n",
              "│ conv2d_2 (\u001b[38;5;33mConv2D\u001b[0m)                    │ (\u001b[38;5;45mNone\u001b[0m, \u001b[38;5;34m16\u001b[0m, \u001b[38;5;34m16\u001b[0m, \u001b[38;5;34m128\u001b[0m)         │          \u001b[38;5;34m73,856\u001b[0m │\n",
              "├──────────────────────────────────────┼─────────────────────────────┼─────────────────┤\n",
              "│ batch_normalization_2                │ (\u001b[38;5;45mNone\u001b[0m, \u001b[38;5;34m16\u001b[0m, \u001b[38;5;34m16\u001b[0m, \u001b[38;5;34m128\u001b[0m)         │             \u001b[38;5;34m512\u001b[0m │\n",
              "│ (\u001b[38;5;33mBatchNormalization\u001b[0m)                 │                             │                 │\n",
              "├──────────────────────────────────────┼─────────────────────────────┼─────────────────┤\n",
              "│ conv2d_3 (\u001b[38;5;33mConv2D\u001b[0m)                    │ (\u001b[38;5;45mNone\u001b[0m, \u001b[38;5;34m16\u001b[0m, \u001b[38;5;34m16\u001b[0m, \u001b[38;5;34m128\u001b[0m)         │         \u001b[38;5;34m147,584\u001b[0m │\n",
              "├──────────────────────────────────────┼─────────────────────────────┼─────────────────┤\n",
              "│ batch_normalization_3                │ (\u001b[38;5;45mNone\u001b[0m, \u001b[38;5;34m16\u001b[0m, \u001b[38;5;34m16\u001b[0m, \u001b[38;5;34m128\u001b[0m)         │             \u001b[38;5;34m512\u001b[0m │\n",
              "│ (\u001b[38;5;33mBatchNormalization\u001b[0m)                 │                             │                 │\n",
              "├──────────────────────────────────────┼─────────────────────────────┼─────────────────┤\n",
              "│ max_pooling2d_1 (\u001b[38;5;33mMaxPooling2D\u001b[0m)       │ (\u001b[38;5;45mNone\u001b[0m, \u001b[38;5;34m8\u001b[0m, \u001b[38;5;34m8\u001b[0m, \u001b[38;5;34m128\u001b[0m)           │               \u001b[38;5;34m0\u001b[0m │\n",
              "├──────────────────────────────────────┼─────────────────────────────┼─────────────────┤\n",
              "│ conv2d_4 (\u001b[38;5;33mConv2D\u001b[0m)                    │ (\u001b[38;5;45mNone\u001b[0m, \u001b[38;5;34m8\u001b[0m, \u001b[38;5;34m8\u001b[0m, \u001b[38;5;34m256\u001b[0m)           │         \u001b[38;5;34m295,168\u001b[0m │\n",
              "├──────────────────────────────────────┼─────────────────────────────┼─────────────────┤\n",
              "│ batch_normalization_4                │ (\u001b[38;5;45mNone\u001b[0m, \u001b[38;5;34m8\u001b[0m, \u001b[38;5;34m8\u001b[0m, \u001b[38;5;34m256\u001b[0m)           │           \u001b[38;5;34m1,024\u001b[0m │\n",
              "│ (\u001b[38;5;33mBatchNormalization\u001b[0m)                 │                             │                 │\n",
              "├──────────────────────────────────────┼─────────────────────────────┼─────────────────┤\n",
              "│ conv2d_5 (\u001b[38;5;33mConv2D\u001b[0m)                    │ (\u001b[38;5;45mNone\u001b[0m, \u001b[38;5;34m8\u001b[0m, \u001b[38;5;34m8\u001b[0m, \u001b[38;5;34m256\u001b[0m)           │         \u001b[38;5;34m590,080\u001b[0m │\n",
              "├──────────────────────────────────────┼─────────────────────────────┼─────────────────┤\n",
              "│ batch_normalization_5                │ (\u001b[38;5;45mNone\u001b[0m, \u001b[38;5;34m8\u001b[0m, \u001b[38;5;34m8\u001b[0m, \u001b[38;5;34m256\u001b[0m)           │           \u001b[38;5;34m1,024\u001b[0m │\n",
              "│ (\u001b[38;5;33mBatchNormalization\u001b[0m)                 │                             │                 │\n",
              "├──────────────────────────────────────┼─────────────────────────────┼─────────────────┤\n",
              "│ max_pooling2d_2 (\u001b[38;5;33mMaxPooling2D\u001b[0m)       │ (\u001b[38;5;45mNone\u001b[0m, \u001b[38;5;34m4\u001b[0m, \u001b[38;5;34m4\u001b[0m, \u001b[38;5;34m256\u001b[0m)           │               \u001b[38;5;34m0\u001b[0m │\n",
              "├──────────────────────────────────────┼─────────────────────────────┼─────────────────┤\n",
              "│ flatten (\u001b[38;5;33mFlatten\u001b[0m)                    │ (\u001b[38;5;45mNone\u001b[0m, \u001b[38;5;34m4096\u001b[0m)                │               \u001b[38;5;34m0\u001b[0m │\n",
              "├──────────────────────────────────────┼─────────────────────────────┼─────────────────┤\n",
              "│ dense (\u001b[38;5;33mDense\u001b[0m)                        │ (\u001b[38;5;45mNone\u001b[0m, \u001b[38;5;34m512\u001b[0m)                 │       \u001b[38;5;34m2,097,664\u001b[0m │\n",
              "├──────────────────────────────────────┼─────────────────────────────┼─────────────────┤\n",
              "│ batch_normalization_6                │ (\u001b[38;5;45mNone\u001b[0m, \u001b[38;5;34m512\u001b[0m)                 │           \u001b[38;5;34m2,048\u001b[0m │\n",
              "│ (\u001b[38;5;33mBatchNormalization\u001b[0m)                 │                             │                 │\n",
              "├──────────────────────────────────────┼─────────────────────────────┼─────────────────┤\n",
              "│ dropout (\u001b[38;5;33mDropout\u001b[0m)                    │ (\u001b[38;5;45mNone\u001b[0m, \u001b[38;5;34m512\u001b[0m)                 │               \u001b[38;5;34m0\u001b[0m │\n",
              "├──────────────────────────────────────┼─────────────────────────────┼─────────────────┤\n",
              "│ dense_1 (\u001b[38;5;33mDense\u001b[0m)                      │ (\u001b[38;5;45mNone\u001b[0m, \u001b[38;5;34m10\u001b[0m)                  │           \u001b[38;5;34m5,130\u001b[0m │\n",
              "└──────────────────────────────────────┴─────────────────────────────┴─────────────────┘\n"
            ],
            "text/html": [
              "<pre style=\"white-space:pre;overflow-x:auto;line-height:normal;font-family:Menlo,'DejaVu Sans Mono',consolas,'Courier New',monospace\">┏━━━━━━━━━━━━━━━━━━━━━━━━━━━━━━━━━━━━━━┳━━━━━━━━━━━━━━━━━━━━━━━━━━━━━┳━━━━━━━━━━━━━━━━━┓\n",
              "┃<span style=\"font-weight: bold\"> Layer (type)                         </span>┃<span style=\"font-weight: bold\"> Output Shape                </span>┃<span style=\"font-weight: bold\">         Param # </span>┃\n",
              "┡━━━━━━━━━━━━━━━━━━━━━━━━━━━━━━━━━━━━━━╇━━━━━━━━━━━━━━━━━━━━━━━━━━━━━╇━━━━━━━━━━━━━━━━━┩\n",
              "│ conv2d (<span style=\"color: #0087ff; text-decoration-color: #0087ff\">Conv2D</span>)                      │ (<span style=\"color: #00d7ff; text-decoration-color: #00d7ff\">None</span>, <span style=\"color: #00af00; text-decoration-color: #00af00\">32</span>, <span style=\"color: #00af00; text-decoration-color: #00af00\">32</span>, <span style=\"color: #00af00; text-decoration-color: #00af00\">64</span>)          │           <span style=\"color: #00af00; text-decoration-color: #00af00\">1,792</span> │\n",
              "├──────────────────────────────────────┼─────────────────────────────┼─────────────────┤\n",
              "│ batch_normalization                  │ (<span style=\"color: #00d7ff; text-decoration-color: #00d7ff\">None</span>, <span style=\"color: #00af00; text-decoration-color: #00af00\">32</span>, <span style=\"color: #00af00; text-decoration-color: #00af00\">32</span>, <span style=\"color: #00af00; text-decoration-color: #00af00\">64</span>)          │             <span style=\"color: #00af00; text-decoration-color: #00af00\">256</span> │\n",
              "│ (<span style=\"color: #0087ff; text-decoration-color: #0087ff\">BatchNormalization</span>)                 │                             │                 │\n",
              "├──────────────────────────────────────┼─────────────────────────────┼─────────────────┤\n",
              "│ conv2d_1 (<span style=\"color: #0087ff; text-decoration-color: #0087ff\">Conv2D</span>)                    │ (<span style=\"color: #00d7ff; text-decoration-color: #00d7ff\">None</span>, <span style=\"color: #00af00; text-decoration-color: #00af00\">32</span>, <span style=\"color: #00af00; text-decoration-color: #00af00\">32</span>, <span style=\"color: #00af00; text-decoration-color: #00af00\">64</span>)          │          <span style=\"color: #00af00; text-decoration-color: #00af00\">36,928</span> │\n",
              "├──────────────────────────────────────┼─────────────────────────────┼─────────────────┤\n",
              "│ batch_normalization_1                │ (<span style=\"color: #00d7ff; text-decoration-color: #00d7ff\">None</span>, <span style=\"color: #00af00; text-decoration-color: #00af00\">32</span>, <span style=\"color: #00af00; text-decoration-color: #00af00\">32</span>, <span style=\"color: #00af00; text-decoration-color: #00af00\">64</span>)          │             <span style=\"color: #00af00; text-decoration-color: #00af00\">256</span> │\n",
              "│ (<span style=\"color: #0087ff; text-decoration-color: #0087ff\">BatchNormalization</span>)                 │                             │                 │\n",
              "├──────────────────────────────────────┼─────────────────────────────┼─────────────────┤\n",
              "│ max_pooling2d (<span style=\"color: #0087ff; text-decoration-color: #0087ff\">MaxPooling2D</span>)         │ (<span style=\"color: #00d7ff; text-decoration-color: #00d7ff\">None</span>, <span style=\"color: #00af00; text-decoration-color: #00af00\">16</span>, <span style=\"color: #00af00; text-decoration-color: #00af00\">16</span>, <span style=\"color: #00af00; text-decoration-color: #00af00\">64</span>)          │               <span style=\"color: #00af00; text-decoration-color: #00af00\">0</span> │\n",
              "├──────────────────────────────────────┼─────────────────────────────┼─────────────────┤\n",
              "│ conv2d_2 (<span style=\"color: #0087ff; text-decoration-color: #0087ff\">Conv2D</span>)                    │ (<span style=\"color: #00d7ff; text-decoration-color: #00d7ff\">None</span>, <span style=\"color: #00af00; text-decoration-color: #00af00\">16</span>, <span style=\"color: #00af00; text-decoration-color: #00af00\">16</span>, <span style=\"color: #00af00; text-decoration-color: #00af00\">128</span>)         │          <span style=\"color: #00af00; text-decoration-color: #00af00\">73,856</span> │\n",
              "├──────────────────────────────────────┼─────────────────────────────┼─────────────────┤\n",
              "│ batch_normalization_2                │ (<span style=\"color: #00d7ff; text-decoration-color: #00d7ff\">None</span>, <span style=\"color: #00af00; text-decoration-color: #00af00\">16</span>, <span style=\"color: #00af00; text-decoration-color: #00af00\">16</span>, <span style=\"color: #00af00; text-decoration-color: #00af00\">128</span>)         │             <span style=\"color: #00af00; text-decoration-color: #00af00\">512</span> │\n",
              "│ (<span style=\"color: #0087ff; text-decoration-color: #0087ff\">BatchNormalization</span>)                 │                             │                 │\n",
              "├──────────────────────────────────────┼─────────────────────────────┼─────────────────┤\n",
              "│ conv2d_3 (<span style=\"color: #0087ff; text-decoration-color: #0087ff\">Conv2D</span>)                    │ (<span style=\"color: #00d7ff; text-decoration-color: #00d7ff\">None</span>, <span style=\"color: #00af00; text-decoration-color: #00af00\">16</span>, <span style=\"color: #00af00; text-decoration-color: #00af00\">16</span>, <span style=\"color: #00af00; text-decoration-color: #00af00\">128</span>)         │         <span style=\"color: #00af00; text-decoration-color: #00af00\">147,584</span> │\n",
              "├──────────────────────────────────────┼─────────────────────────────┼─────────────────┤\n",
              "│ batch_normalization_3                │ (<span style=\"color: #00d7ff; text-decoration-color: #00d7ff\">None</span>, <span style=\"color: #00af00; text-decoration-color: #00af00\">16</span>, <span style=\"color: #00af00; text-decoration-color: #00af00\">16</span>, <span style=\"color: #00af00; text-decoration-color: #00af00\">128</span>)         │             <span style=\"color: #00af00; text-decoration-color: #00af00\">512</span> │\n",
              "│ (<span style=\"color: #0087ff; text-decoration-color: #0087ff\">BatchNormalization</span>)                 │                             │                 │\n",
              "├──────────────────────────────────────┼─────────────────────────────┼─────────────────┤\n",
              "│ max_pooling2d_1 (<span style=\"color: #0087ff; text-decoration-color: #0087ff\">MaxPooling2D</span>)       │ (<span style=\"color: #00d7ff; text-decoration-color: #00d7ff\">None</span>, <span style=\"color: #00af00; text-decoration-color: #00af00\">8</span>, <span style=\"color: #00af00; text-decoration-color: #00af00\">8</span>, <span style=\"color: #00af00; text-decoration-color: #00af00\">128</span>)           │               <span style=\"color: #00af00; text-decoration-color: #00af00\">0</span> │\n",
              "├──────────────────────────────────────┼─────────────────────────────┼─────────────────┤\n",
              "│ conv2d_4 (<span style=\"color: #0087ff; text-decoration-color: #0087ff\">Conv2D</span>)                    │ (<span style=\"color: #00d7ff; text-decoration-color: #00d7ff\">None</span>, <span style=\"color: #00af00; text-decoration-color: #00af00\">8</span>, <span style=\"color: #00af00; text-decoration-color: #00af00\">8</span>, <span style=\"color: #00af00; text-decoration-color: #00af00\">256</span>)           │         <span style=\"color: #00af00; text-decoration-color: #00af00\">295,168</span> │\n",
              "├──────────────────────────────────────┼─────────────────────────────┼─────────────────┤\n",
              "│ batch_normalization_4                │ (<span style=\"color: #00d7ff; text-decoration-color: #00d7ff\">None</span>, <span style=\"color: #00af00; text-decoration-color: #00af00\">8</span>, <span style=\"color: #00af00; text-decoration-color: #00af00\">8</span>, <span style=\"color: #00af00; text-decoration-color: #00af00\">256</span>)           │           <span style=\"color: #00af00; text-decoration-color: #00af00\">1,024</span> │\n",
              "│ (<span style=\"color: #0087ff; text-decoration-color: #0087ff\">BatchNormalization</span>)                 │                             │                 │\n",
              "├──────────────────────────────────────┼─────────────────────────────┼─────────────────┤\n",
              "│ conv2d_5 (<span style=\"color: #0087ff; text-decoration-color: #0087ff\">Conv2D</span>)                    │ (<span style=\"color: #00d7ff; text-decoration-color: #00d7ff\">None</span>, <span style=\"color: #00af00; text-decoration-color: #00af00\">8</span>, <span style=\"color: #00af00; text-decoration-color: #00af00\">8</span>, <span style=\"color: #00af00; text-decoration-color: #00af00\">256</span>)           │         <span style=\"color: #00af00; text-decoration-color: #00af00\">590,080</span> │\n",
              "├──────────────────────────────────────┼─────────────────────────────┼─────────────────┤\n",
              "│ batch_normalization_5                │ (<span style=\"color: #00d7ff; text-decoration-color: #00d7ff\">None</span>, <span style=\"color: #00af00; text-decoration-color: #00af00\">8</span>, <span style=\"color: #00af00; text-decoration-color: #00af00\">8</span>, <span style=\"color: #00af00; text-decoration-color: #00af00\">256</span>)           │           <span style=\"color: #00af00; text-decoration-color: #00af00\">1,024</span> │\n",
              "│ (<span style=\"color: #0087ff; text-decoration-color: #0087ff\">BatchNormalization</span>)                 │                             │                 │\n",
              "├──────────────────────────────────────┼─────────────────────────────┼─────────────────┤\n",
              "│ max_pooling2d_2 (<span style=\"color: #0087ff; text-decoration-color: #0087ff\">MaxPooling2D</span>)       │ (<span style=\"color: #00d7ff; text-decoration-color: #00d7ff\">None</span>, <span style=\"color: #00af00; text-decoration-color: #00af00\">4</span>, <span style=\"color: #00af00; text-decoration-color: #00af00\">4</span>, <span style=\"color: #00af00; text-decoration-color: #00af00\">256</span>)           │               <span style=\"color: #00af00; text-decoration-color: #00af00\">0</span> │\n",
              "├──────────────────────────────────────┼─────────────────────────────┼─────────────────┤\n",
              "│ flatten (<span style=\"color: #0087ff; text-decoration-color: #0087ff\">Flatten</span>)                    │ (<span style=\"color: #00d7ff; text-decoration-color: #00d7ff\">None</span>, <span style=\"color: #00af00; text-decoration-color: #00af00\">4096</span>)                │               <span style=\"color: #00af00; text-decoration-color: #00af00\">0</span> │\n",
              "├──────────────────────────────────────┼─────────────────────────────┼─────────────────┤\n",
              "│ dense (<span style=\"color: #0087ff; text-decoration-color: #0087ff\">Dense</span>)                        │ (<span style=\"color: #00d7ff; text-decoration-color: #00d7ff\">None</span>, <span style=\"color: #00af00; text-decoration-color: #00af00\">512</span>)                 │       <span style=\"color: #00af00; text-decoration-color: #00af00\">2,097,664</span> │\n",
              "├──────────────────────────────────────┼─────────────────────────────┼─────────────────┤\n",
              "│ batch_normalization_6                │ (<span style=\"color: #00d7ff; text-decoration-color: #00d7ff\">None</span>, <span style=\"color: #00af00; text-decoration-color: #00af00\">512</span>)                 │           <span style=\"color: #00af00; text-decoration-color: #00af00\">2,048</span> │\n",
              "│ (<span style=\"color: #0087ff; text-decoration-color: #0087ff\">BatchNormalization</span>)                 │                             │                 │\n",
              "├──────────────────────────────────────┼─────────────────────────────┼─────────────────┤\n",
              "│ dropout (<span style=\"color: #0087ff; text-decoration-color: #0087ff\">Dropout</span>)                    │ (<span style=\"color: #00d7ff; text-decoration-color: #00d7ff\">None</span>, <span style=\"color: #00af00; text-decoration-color: #00af00\">512</span>)                 │               <span style=\"color: #00af00; text-decoration-color: #00af00\">0</span> │\n",
              "├──────────────────────────────────────┼─────────────────────────────┼─────────────────┤\n",
              "│ dense_1 (<span style=\"color: #0087ff; text-decoration-color: #0087ff\">Dense</span>)                      │ (<span style=\"color: #00d7ff; text-decoration-color: #00d7ff\">None</span>, <span style=\"color: #00af00; text-decoration-color: #00af00\">10</span>)                  │           <span style=\"color: #00af00; text-decoration-color: #00af00\">5,130</span> │\n",
              "└──────────────────────────────────────┴─────────────────────────────┴─────────────────┘\n",
              "</pre>\n"
            ]
          },
          "metadata": {}
        },
        {
          "output_type": "display_data",
          "data": {
            "text/plain": [
              "\u001b[1m Total params: \u001b[0m\u001b[38;5;34m3,253,834\u001b[0m (12.41 MB)\n"
            ],
            "text/html": [
              "<pre style=\"white-space:pre;overflow-x:auto;line-height:normal;font-family:Menlo,'DejaVu Sans Mono',consolas,'Courier New',monospace\"><span style=\"font-weight: bold\"> Total params: </span><span style=\"color: #00af00; text-decoration-color: #00af00\">3,253,834</span> (12.41 MB)\n",
              "</pre>\n"
            ]
          },
          "metadata": {}
        },
        {
          "output_type": "display_data",
          "data": {
            "text/plain": [
              "\u001b[1m Trainable params: \u001b[0m\u001b[38;5;34m3,251,018\u001b[0m (12.40 MB)\n"
            ],
            "text/html": [
              "<pre style=\"white-space:pre;overflow-x:auto;line-height:normal;font-family:Menlo,'DejaVu Sans Mono',consolas,'Courier New',monospace\"><span style=\"font-weight: bold\"> Trainable params: </span><span style=\"color: #00af00; text-decoration-color: #00af00\">3,251,018</span> (12.40 MB)\n",
              "</pre>\n"
            ]
          },
          "metadata": {}
        },
        {
          "output_type": "display_data",
          "data": {
            "text/plain": [
              "\u001b[1m Non-trainable params: \u001b[0m\u001b[38;5;34m2,816\u001b[0m (11.00 KB)\n"
            ],
            "text/html": [
              "<pre style=\"white-space:pre;overflow-x:auto;line-height:normal;font-family:Menlo,'DejaVu Sans Mono',consolas,'Courier New',monospace\"><span style=\"font-weight: bold\"> Non-trainable params: </span><span style=\"color: #00af00; text-decoration-color: #00af00\">2,816</span> (11.00 KB)\n",
              "</pre>\n"
            ]
          },
          "metadata": {}
        }
      ]
    },
    {
      "cell_type": "code",
      "source": [
        "vgg16_model.compile(optimizer = optimizers.Adam(learning_rate=1e-3),\n",
        "                    loss= 'categorical_crossentropy', metrics = ['accuracy'])"
      ],
      "metadata": {
        "id": "psWeIqwmCJwc"
      },
      "execution_count": 13,
      "outputs": []
    },
    {
      "cell_type": "code",
      "source": [
        "vgg16_history = vgg16_model.fit(datagen.flow(x_train, y_train, batch_size =64), epochs =10,\n",
        "                                validation_data =(x_test, y_test))"
      ],
      "metadata": {
        "colab": {
          "base_uri": "https://localhost:8080/"
        },
        "id": "xfhTHLrsCrhD",
        "outputId": "1cdf9c9d-4e88-41df-c910-8d45d5ccd0de"
      },
      "execution_count": 14,
      "outputs": [
        {
          "output_type": "stream",
          "name": "stdout",
          "text": [
            "Epoch 1/10\n"
          ]
        },
        {
          "output_type": "stream",
          "name": "stderr",
          "text": [
            "/usr/local/lib/python3.10/dist-packages/keras/src/trainers/data_adapters/py_dataset_adapter.py:121: UserWarning: Your `PyDataset` class should call `super().__init__(**kwargs)` in its constructor. `**kwargs` can include `workers`, `use_multiprocessing`, `max_queue_size`. Do not pass these arguments to `fit()`, as they will be ignored.\n",
            "  self._warn_if_super_not_called()\n"
          ]
        },
        {
          "output_type": "stream",
          "name": "stdout",
          "text": [
            "\u001b[1m782/782\u001b[0m \u001b[32m━━━━━━━━━━━━━━━━━━━━\u001b[0m\u001b[37m\u001b[0m \u001b[1m61s\u001b[0m 62ms/step - accuracy: 0.3954 - loss: 1.9418 - val_accuracy: 0.5533 - val_loss: 1.3254\n",
            "Epoch 2/10\n",
            "\u001b[1m782/782\u001b[0m \u001b[32m━━━━━━━━━━━━━━━━━━━━\u001b[0m\u001b[37m\u001b[0m \u001b[1m64s\u001b[0m 49ms/step - accuracy: 0.6551 - loss: 0.9905 - val_accuracy: 0.6451 - val_loss: 1.0680\n",
            "Epoch 3/10\n",
            "\u001b[1m782/782\u001b[0m \u001b[32m━━━━━━━━━━━━━━━━━━━━\u001b[0m\u001b[37m\u001b[0m \u001b[1m39s\u001b[0m 49ms/step - accuracy: 0.7186 - loss: 0.8067 - val_accuracy: 0.7243 - val_loss: 0.8201\n",
            "Epoch 4/10\n",
            "\u001b[1m782/782\u001b[0m \u001b[32m━━━━━━━━━━━━━━━━━━━━\u001b[0m\u001b[37m\u001b[0m \u001b[1m38s\u001b[0m 48ms/step - accuracy: 0.7653 - loss: 0.6847 - val_accuracy: 0.7150 - val_loss: 0.8748\n",
            "Epoch 5/10\n",
            "\u001b[1m782/782\u001b[0m \u001b[32m━━━━━━━━━━━━━━━━━━━━\u001b[0m\u001b[37m\u001b[0m \u001b[1m41s\u001b[0m 49ms/step - accuracy: 0.7907 - loss: 0.6076 - val_accuracy: 0.8160 - val_loss: 0.5454\n",
            "Epoch 6/10\n",
            "\u001b[1m782/782\u001b[0m \u001b[32m━━━━━━━━━━━━━━━━━━━━\u001b[0m\u001b[37m\u001b[0m \u001b[1m38s\u001b[0m 49ms/step - accuracy: 0.8074 - loss: 0.5600 - val_accuracy: 0.8026 - val_loss: 0.5711\n",
            "Epoch 7/10\n",
            "\u001b[1m782/782\u001b[0m \u001b[32m━━━━━━━━━━━━━━━━━━━━\u001b[0m\u001b[37m\u001b[0m \u001b[1m39s\u001b[0m 49ms/step - accuracy: 0.8240 - loss: 0.5073 - val_accuracy: 0.8022 - val_loss: 0.5886\n",
            "Epoch 8/10\n",
            "\u001b[1m782/782\u001b[0m \u001b[32m━━━━━━━━━━━━━━━━━━━━\u001b[0m\u001b[37m\u001b[0m \u001b[1m38s\u001b[0m 48ms/step - accuracy: 0.8397 - loss: 0.4692 - val_accuracy: 0.7576 - val_loss: 0.8164\n",
            "Epoch 9/10\n",
            "\u001b[1m782/782\u001b[0m \u001b[32m━━━━━━━━━━━━━━━━━━━━\u001b[0m\u001b[37m\u001b[0m \u001b[1m38s\u001b[0m 48ms/step - accuracy: 0.8511 - loss: 0.4375 - val_accuracy: 0.7997 - val_loss: 0.6373\n",
            "Epoch 10/10\n",
            "\u001b[1m782/782\u001b[0m \u001b[32m━━━━━━━━━━━━━━━━━━━━\u001b[0m\u001b[37m\u001b[0m \u001b[1m38s\u001b[0m 49ms/step - accuracy: 0.8573 - loss: 0.4146 - val_accuracy: 0.8154 - val_loss: 0.5698\n"
          ]
        }
      ]
    },
    {
      "cell_type": "code",
      "source": [
        "def display_pred(model, model_name):\n",
        "    num_images=5\n",
        "    indices = np.random.choice(len(x_test), num_images)\n",
        "    sample_images = x_test[indices]\n",
        "    sample_labels = y_test[indices]\n",
        "\n",
        "    predictions = model.predict(sample_images)\n",
        "    predictions_classes = np.argmax(predictions, axis=1)\n",
        "    true_classes = np.argmax(sample_labels, axis=1)\n",
        "\n",
        "    plt.figure(figsize=(15, 5))\n",
        "    for i in range(num_images):\n",
        "        plt.subplot(1, num_images, i + 1)\n",
        "        plt.imshow(sample_images[i])\n",
        "        plt.title(f\"Model: {model_name}\\nPredict: {class_names[predictions_classes[i]]}\\nTrue: {class_names[true_classes[i]]}\")\n",
        "        plt.axis('off')\n",
        "    plt.show()"
      ],
      "metadata": {
        "id": "vt57z0quDSyP"
      },
      "execution_count": 15,
      "outputs": []
    },
    {
      "cell_type": "code",
      "source": [
        "#Evaluate\n",
        "vgg16_loss,vgg16_accuracy = vgg16_model.evaluate(x_test, y_test)\n",
        "\n",
        "print(vgg16_loss,vgg16_accuracy)"
      ],
      "metadata": {
        "colab": {
          "base_uri": "https://localhost:8080/"
        },
        "id": "3liy2eHMFemf",
        "outputId": "0face8f1-a2ac-4c67-c1ad-cfc526ba339a"
      },
      "execution_count": 16,
      "outputs": [
        {
          "output_type": "stream",
          "name": "stdout",
          "text": [
            "\u001b[1m313/313\u001b[0m \u001b[32m━━━━━━━━━━━━━━━━━━━━\u001b[0m\u001b[37m\u001b[0m \u001b[1m1s\u001b[0m 4ms/step - accuracy: 0.8180 - loss: 0.5659\n",
            "0.5698249936103821 0.8154000043869019\n"
          ]
        }
      ]
    },
    {
      "cell_type": "code",
      "source": [
        "display_pred(vgg16_model, \"VGG16\")"
      ],
      "metadata": {
        "colab": {
          "base_uri": "https://localhost:8080/",
          "height": 280
        },
        "id": "1WnxNEyLFeo2",
        "outputId": "e8f2c2ed-4c42-4a58-9b8c-d41edb907a0b"
      },
      "execution_count": 18,
      "outputs": [
        {
          "output_type": "stream",
          "name": "stdout",
          "text": [
            "\u001b[1m1/1\u001b[0m \u001b[32m━━━━━━━━━━━━━━━━━━━━\u001b[0m\u001b[37m\u001b[0m \u001b[1m0s\u001b[0m 23ms/step\n"
          ]
        },
        {
          "output_type": "display_data",
          "data": {
            "text/plain": [
              "<Figure size 1500x500 with 5 Axes>"
            ],
            "image/png": "[encoded data removed]"
          },
          "metadata": {}
        }
      ]
    }
  ]
}